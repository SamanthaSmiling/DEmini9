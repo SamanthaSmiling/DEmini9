{
 "cells": [
  {
   "cell_type": "code",
   "execution_count": null,
   "metadata": {},
   "outputs": [],
   "source": [
    "from mylib.lib import (\n",
    "    load_and_preprocess,\n",
    "    process_mean,\n",
    "    process_quantile,\n",
    "    process_median,\n",
    "    process_std,\n",
    "    congress_histogram_viz,\n",
    "    congress_line_viz,\n",
    "    congress_bar_viz,\n",
    ")\n",
    "\n",
    "example_csv = \"https://raw.githubusercontent.com/fivethirtyeight/data/master/congress-age/congress-terms.csv\""
   ]
  },
  {
   "cell_type": "code",
   "execution_count": null,
   "metadata": {},
   "outputs": [],
   "source": [
    "general_df = load_and_preprocess(example_csv)\n",
    "assert general_df is not None\n",
    "assert general_df.shape == (18635, 13)\n",
    "general_df.head()"
   ]
  },
  {
   "cell_type": "code",
   "execution_count": null,
   "metadata": {},
   "outputs": [],
   "source": [
    "mean_test = process_mean(general_df, \"age\")\n",
    "quantile_test = process_quantile(general_df, \"age\", 0.25)\n",
    "median_test = process_median(general_df, \"age\")\n",
    "std_test = process_std(general_df, \"age\")\n",
    "describe_test = general_df.describe()\n",
    "assert describe_test.loc[\"mean\", \"age\"] == mean_test\n",
    "assert describe_test.loc[\"std\", \"age\"] == std_test\n",
    "assert describe_test.loc[\"25%\", \"age\"] == quantile_test\n",
    "assert median_test == 53.0"
   ]
  },
  {
   "cell_type": "code",
   "execution_count": null,
   "metadata": {},
   "outputs": [],
   "source": [
    "congress_histogram_viz(general_df, True)"
   ]
  },
  {
   "cell_type": "code",
   "execution_count": null,
   "metadata": {},
   "outputs": [],
   "source": [
    "congress_line_viz(general_df, True)"
   ]
  },
  {
   "cell_type": "code",
   "execution_count": null,
   "metadata": {},
   "outputs": [],
   "source": [
    "congress_bar_viz(general_df, True)"
   ]
  }
 ],
 "metadata": {
  "language_info": {
   "name": "python"
  }
 },
 "nbformat": 4,
 "nbformat_minor": 2
}
